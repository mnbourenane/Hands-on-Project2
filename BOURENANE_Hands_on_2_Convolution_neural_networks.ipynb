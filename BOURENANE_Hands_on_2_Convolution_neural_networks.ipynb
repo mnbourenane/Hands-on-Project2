{
  "nbformat": 4,
  "nbformat_minor": 0,
  "metadata": {
    "colab": {
      "provenance": []
    },
    "kernelspec": {
      "name": "python3",
      "display_name": "Python 3"
    },
    "language_info": {
      "name": "python"
    }
  },
  "cells": [
    {
      "cell_type": "markdown",
      "source": [
        "🚀 Deep Learning Hands-On: Convolutional Neural Networks with MNIST in PyTorch"
      ],
      "metadata": {
        "id": "fWD11f4AoesA"
      }
    },
    {
      "cell_type": "code",
      "execution_count": 57,
      "metadata": {
        "id": "FRVxLBtaoSjF"
      },
      "outputs": [],
      "source": [
        "import torch\n",
        "import torch.nn as nn\n",
        "import torch.optim as optim\n",
        "from torchvision import datasets, transforms\n",
        "from torch.utils.data import DataLoader\n",
        "from torch.functional import F"
      ]
    },
    {
      "cell_type": "markdown",
      "source": [
        "Loading the MNIST Dataset 📚"
      ],
      "metadata": {
        "id": "LCmJYf7Uok1o"
      }
    },
    {
      "cell_type": "code",
      "source": [
        "# TODO: Define transformations for the data\n",
        "transform = transforms.Compose([\n",
        "    transforms.ToTensor(),\n",
        "    transforms.Normalize((0.5,), (0.5,))\n",
        "])\n",
        "# TODO: Load MNIST dataset (You can fetch that from our previous project =) )\n",
        "train_set = datasets.MNIST(root='./data', train=True, download=True, transform=transform)\n",
        "test_set = datasets.MNIST(root='./data', train=False, download=True, transform=transform)\n",
        "\n",
        "train_loader = DataLoader(train_set, batch_size=64, shuffle=True)\n",
        "test_loader = DataLoader(test_set, batch_size=64, shuffle=True)"
      ],
      "metadata": {
        "id": "UtUW2FalonTX"
      },
      "execution_count": 58,
      "outputs": []
    },
    {
      "cell_type": "markdown",
      "source": [
        "Building Our Convolutional Neural Network (CNN) 🏗️"
      ],
      "metadata": {
        "id": "bSMY02uoH0j2"
      }
    },
    {
      "cell_type": "code",
      "source": [
        "# TODO: complete this definition of CNN\n",
        "# A convolution layer in pytorch is defined with these parameters:\n",
        "# input channel (if RGB = 3, if grayscaled = 1), output channel (usually 16,32,64 ), kernel size (3,5,7), stride (use 1)\n",
        "class CNN(nn.Module):\n",
        "    def __init__(self):\n",
        "        super(CNN, self).__init__()\n",
        "        #input =1, 28, 28\n",
        "        self.conv1 = nn.Conv2d(1, 16, 3)  # (16, 26, 26)-->(16, 13, 13) #(input_nb_channels=1,out_channels=16,kernel_size=3,stride=1)  #First conv layer\n",
        "        self.conv2 = nn.Conv2d(16, 32, 3) # (32, 11, 11)-->(32, 5, 5)   #(input_nb_channels=16,out_channels=32,kernel_size=3,stride=1) #Second conv layer\n",
        "        self.fc1 = nn.Linear(32*5*5, 10)\n",
        "\n",
        "    def forward(self, x):\n",
        "        x = F.relu(self.conv1(x))\n",
        "        x = F.max_pool2d(x, kernel_size=2, stride=2)                    # add pooling layer  (pytorch doc is your friend)\n",
        "        x = F.relu(self.conv2(x))\n",
        "        x = F.max_pool2d(x, kernel_size=2, stride=2)                      # add pooling layer\n",
        "        x = x.view(-1, 32*5*5)\n",
        "        x = self.fc1(x)\n",
        "        return x\n",
        "\n",
        "    def extract_features(self, x):\n",
        "        x1 = F.relu(self.conv1(x))\n",
        "        x2 = F.max_pool2d(x1, kernel_size=2, stride=2)                       # add pooling layer  (pytorch doc is your friend)\n",
        "        x3 = F.relu(self.conv2(x2))\n",
        "        x4 = F.max_pool2d(x3, kernel_size=2, stride=2)                         # add pooling layer\n",
        "        x5 = x4.view(-1, 32*5*5)\n",
        "        x6 = self.fc1(x5)\n",
        "        return x1, x3\n",
        "\n",
        "model = CNN()"
      ],
      "metadata": {
        "id": "Ldq6_lNoH1Y0"
      },
      "execution_count": 48,
      "outputs": []
    },
    {
      "cell_type": "markdown",
      "source": [
        "Training the Convolutional Neural Network 🏋️‍♂️"
      ],
      "metadata": {
        "id": "5lqdoK2qz4cp"
      }
    },
    {
      "cell_type": "code",
      "source": [
        "def train_model(model, train_loader, val_loader, criterion, optimizer, epochs=10):\n",
        "    train_losses, val_losses = [], []\n",
        "    train_accuracies, val_accuracies = [], []\n",
        "\n",
        "    for epoch in range(epochs):\n",
        "        model.train()\n",
        "        running_loss = 0.0\n",
        "        correct, total = 0, 0\n",
        "\n",
        "        for images, labels in train_loader:\n",
        "            optimizer.zero_grad()\n",
        "            outputs = model(images)\n",
        "            loss = criterion(outputs, labels)\n",
        "            loss.backward()\n",
        "            optimizer.step()\n",
        "\n",
        "            running_loss += loss.item()\n",
        "            _, predicted = torch.max(outputs.data, 1)\n",
        "            total += labels.size(0)\n",
        "            correct += (predicted == labels).sum().item()\n",
        "\n",
        "        train_loss = running_loss / len(train_loader)\n",
        "        train_accuracy = correct / total\n",
        "        train_losses.append(train_loss)\n",
        "        train_accuracies.append(train_accuracy)\n",
        "\n",
        "        model.eval()\n",
        "        val_loss = 0.0\n",
        "        correct, total = 0, 0\n",
        "        with torch.no_grad():\n",
        "            for images, labels in val_loader:\n",
        "                outputs = model(images)\n",
        "                loss = criterion(outputs, labels)\n",
        "                val_loss += loss.item()\n",
        "                _, predicted = torch.max(outputs.data, 1)\n",
        "                total += labels.size(0)\n",
        "                correct += (predicted == labels).sum().item()\n",
        "\n",
        "        val_loss = val_loss / len(val_loader)\n",
        "        val_accuracy = correct / total\n",
        "        val_losses.append(val_loss)\n",
        "        val_accuracies.append(val_accuracy)\n",
        "\n",
        "        print(f'Epoch {epoch+1}/{epochs}, Train Loss: {train_loss:.4f}, Validation Loss: {val_loss:.4f}, Train Accuracy: {train_accuracy:.4f}, Validation Accuracy: {val_accuracy:.4f}')\n",
        "\n",
        "    return train_losses, val_losses, train_accuracies, val_accuracies"
      ],
      "metadata": {
        "id": "grJemShy0CRv"
      },
      "execution_count": 49,
      "outputs": []
    },
    {
      "cell_type": "code",
      "source": [
        "import matplotlib.pyplot as plt\n",
        "# This function plots the model complexity graph\n",
        "def plot_model_complexity_graph(train_losses, val_losses, train_accuracies, val_accuracies):\n",
        "    epochs = range(1, len(train_losses) + 1)\n",
        "\n",
        "    plt.figure(figsize=(12, 5))\n",
        "    plt.subplot(1, 2, 1)\n",
        "    plt.plot(epochs, train_losses, 'b-', label='Training Loss')\n",
        "    plt.plot(epochs, val_losses, 'r-', label='Validation Loss')\n",
        "    plt.title('Training and Validation Loss')\n",
        "    plt.xlabel('Epochs')\n",
        "    plt.ylabel('Loss')\n",
        "    plt.legend()\n",
        "\n",
        "    plt.subplot(1, 2, 2)\n",
        "    plt.plot(epochs, train_accuracies, 'b-', label='Training Accuracy')\n",
        "    plt.plot(epochs, val_accuracies, 'r-', label='Validation Accuracy')\n",
        "    plt.title('Training and Validation Accuracy')\n",
        "    plt.xlabel('Epochs')\n",
        "    plt.ylabel('Accuracy')\n",
        "    plt.legend()\n",
        "\n",
        "    plt.show()"
      ],
      "metadata": {
        "id": "hDv12LpN0x4O"
      },
      "execution_count": 50,
      "outputs": []
    },
    {
      "cell_type": "code",
      "source": [
        "criterion = nn.CrossEntropyLoss()\n",
        "optimizer = optim.SGD(model.parameters(), lr=0.01)\n",
        "\n",
        "# run the two functions\n",
        "train_losses, val_losses, train_accuracies, val_accuracies = train_model(\n",
        "    # put here the arguments for the training function\n",
        "    model, train_loader, test_loader, criterion, optimizer, epochs=30\n",
        ")\n",
        "\n",
        "plot_model_complexity_graph(train_losses, val_losses, train_accuracies, val_accuracies)"
      ],
      "metadata": {
        "colab": {
          "base_uri": "https://localhost:8080/",
          "height": 245
        },
        "id": "fEMcgoKX02m1",
        "outputId": "b009da94-13ea-45a0-fede-1dc469b3e8ea"
      },
      "execution_count": 51,
      "outputs": [
        {
          "output_type": "error",
          "ename": "NameError",
          "evalue": "name 'train_loader' is not defined",
          "traceback": [
            "\u001b[0;31m---------------------------------------------------------------------------\u001b[0m",
            "\u001b[0;31mNameError\u001b[0m                                 Traceback (most recent call last)",
            "\u001b[0;32m<ipython-input-51-3fe95db5dff5>\u001b[0m in \u001b[0;36m<cell line: 5>\u001b[0;34m()\u001b[0m\n\u001b[1;32m      5\u001b[0m train_losses, val_losses, train_accuracies, val_accuracies = train_model(\n\u001b[1;32m      6\u001b[0m     \u001b[0;31m# put here the arguments for the training function\u001b[0m\u001b[0;34m\u001b[0m\u001b[0;34m\u001b[0m\u001b[0m\n\u001b[0;32m----> 7\u001b[0;31m     \u001b[0mmodel\u001b[0m\u001b[0;34m,\u001b[0m \u001b[0mtrain_loader\u001b[0m\u001b[0;34m,\u001b[0m \u001b[0mtest_loader\u001b[0m\u001b[0;34m,\u001b[0m \u001b[0mcriterion\u001b[0m\u001b[0;34m,\u001b[0m \u001b[0moptimizer\u001b[0m\u001b[0;34m,\u001b[0m \u001b[0mepochs\u001b[0m\u001b[0;34m=\u001b[0m\u001b[0;36m30\u001b[0m\u001b[0;34m\u001b[0m\u001b[0;34m\u001b[0m\u001b[0m\n\u001b[0m\u001b[1;32m      8\u001b[0m )\n\u001b[1;32m      9\u001b[0m \u001b[0;34m\u001b[0m\u001b[0m\n",
            "\u001b[0;31mNameError\u001b[0m: name 'train_loader' is not defined"
          ]
        }
      ]
    },
    {
      "cell_type": "markdown",
      "source": [
        "Visualizing the Learned Features of the CNN 🔍"
      ],
      "metadata": {
        "id": "dYT88NKn06jl"
      }
    },
    {
      "cell_type": "code",
      "source": [
        "import matplotlib.pyplot as plt\n",
        "\n",
        "def visualize_feature_maps(model, image, layer_num):\n",
        "    model.eval()\n",
        "    with torch.no_grad():\n",
        "        conv1_output, conv2_output = model.extract_features(image.unsqueeze(0))\n",
        "\n",
        "    if layer_num == 1:\n",
        "        layer_output = conv1_output\n",
        "    elif layer_num == 2:\n",
        "        layer_output = conv2_output\n",
        "    else:\n",
        "        raise ValueError(\"Invalid layer number\")\n",
        "\n",
        "    layer_output = layer_output.squeeze(0).cpu()\n",
        "\n",
        "    fig, axes = plt.subplots(1, layer_output.size(0), figsize=(20, 2))\n",
        "    for i, ax in enumerate(axes):\n",
        "        ax.imshow(layer_output[i].detach().numpy(), cmap='gray')\n",
        "        ax.axis('off')\n",
        "    plt.show()"
      ],
      "metadata": {
        "id": "LXaqhxvX092u"
      },
      "execution_count": null,
      "outputs": []
    },
    {
      "cell_type": "code",
      "source": [
        "# TODO: try different images and compare the result\n",
        "# Load a sample image from the dataset\n",
        "sample_image, _ = next(iter(test_loader))\n",
        "sample_image = sample_image[1]  # Get the first image in the batch\n",
        "\n",
        "# Visualize feature maps for the first convolutional layer\n",
        "visualize_feature_maps(model, sample_image, layer_num=1)\n",
        "\n",
        "# Visualize feature maps for the second convolutional layer\n",
        "visualize_feature_maps(model, sample_image, layer_num=2)"
      ],
      "metadata": {
        "id": "YRYD2xgk1AqU"
      },
      "execution_count": null,
      "outputs": []
    }
  ]
}